{
 "cells": [
  {
   "cell_type": "code",
   "execution_count": 1,
   "metadata": {
    "colab": {
     "base_uri": "https://localhost:8080/",
     "height": 990.0
    },
    "colab_type": "code",
    "executionInfo": {
     "elapsed": 27152.0,
     "status": "ok",
     "timestamp": 1.587979510698E12,
     "user": {
      "displayName": "Mohamad Mahdi Yadegar",
      "photoUrl": "https://lh3.googleusercontent.com/a-/AOh14GjSB-SOBZ3Cf7Vm6TFT8awQg0XuV1mnbSCowsIR=s64",
      "userId": "06691288538219578255"
     },
     "user_tz": -270.0
    },
    "id": "QoAgdsJ9zyTS",
    "outputId": "3b5a378d-5803-4dec-c216-4d7dc3fd6972"
   },
   "outputs": [
    {
     "name": "stderr",
     "output_type": "stream",
     "text": [
      "Using TensorFlow backend.\n"
     ]
    },
    {
     "name": "stdout",
     "output_type": "stream",
     "text": [
      "Epoch 1/20\n",
      " - 2s - loss: 469.2433 - accuracy: 0.0000e+00\n",
      "Epoch 2/20\n",
      " - 1s - loss: 73.3205 - accuracy: 0.0000e+00\n",
      "Epoch 3/20\n",
      " - 1s - loss: 20.0172 - accuracy: 0.0000e+00\n",
      "Epoch 4/20\n",
      " - 1s - loss: 4.7196 - accuracy: 0.0000e+00\n",
      "Epoch 5/20\n",
      " - 1s - loss: 1.4588 - accuracy: 0.0000e+00\n",
      "Epoch 6/20\n",
      " - 1s - loss: 0.6235 - accuracy: 0.0000e+00\n",
      "Epoch 7/20\n",
      " - 1s - loss: 0.3052 - accuracy: 0.0000e+00\n",
      "Epoch 8/20\n",
      " - 1s - loss: 0.1727 - accuracy: 0.0000e+00\n",
      "Epoch 9/20\n",
      " - 1s - loss: 0.1078 - accuracy: 0.0000e+00\n",
      "Epoch 10/20\n",
      " - 1s - loss: 0.0703 - accuracy: 0.0000e+00\n",
      "Epoch 11/20\n",
      " - 1s - loss: 0.0555 - accuracy: 0.0000e+00\n",
      "Epoch 12/20\n",
      " - 1s - loss: 0.0365 - accuracy: 0.0000e+00\n",
      "Epoch 13/20\n",
      " - 1s - loss: 0.0309 - accuracy: 0.0000e+00\n",
      "Epoch 14/20\n",
      " - 1s - loss: 0.0208 - accuracy: 0.0000e+00\n",
      "Epoch 15/20\n",
      " - 1s - loss: 0.0237 - accuracy: 1.0000e-04\n",
      "Epoch 16/20\n",
      " - 1s - loss: 0.0140 - accuracy: 0.0000e+00\n",
      "Epoch 17/20\n",
      " - 1s - loss: 0.0227 - accuracy: 1.0000e-04\n",
      "Epoch 18/20\n",
      " - 1s - loss: 0.0111 - accuracy: 1.0000e-04\n",
      "Epoch 19/20\n",
      " - 1s - loss: 0.0126 - accuracy: 2.0000e-04\n",
      "Epoch 20/20\n",
      " - 1s - loss: 0.0162 - accuracy: 2.0000e-04\n",
      "{'loss': [469.2433108886719, 73.32047672729492, 20.017172159576415, 4.71961001701355, 1.4587834288597108, 0.6235427672624588, 0.3052311025500298, 0.172720656812191, 0.10776121165752411, 0.07027304431796073, 0.055476865708827976, 0.0365190565481782, 0.030870173448324205, 0.020790542896836996, 0.023678854542970657, 0.014034053532779216, 0.022749274646490812, 0.011133816874213517, 0.012599244477041065, 0.01619596381224692], 'accuracy': [0.0, 0.0, 0.0, 0.0, 0.0, 0.0, 0.0, 0.0, 0.0, 0.0, 0.0, 0.0, 0.0, 0.0, 1e-04, 0.0, 1e-04, 1e-04, 0.0002, 0.0002]}\n"
     ]
    },
    {
     "data": {
      "image/png": "[encoded data removed]",
      "text/plain": [
       "<Figure size 432x288 with 1 Axes>"
      ]
     },
     "metadata": {
      "needs_background": "light",
      "tags": []
     },
     "output_type": "display_data"
    }
   ],
   "source": [
    "%matplotlib inline\n",
    "import numpy as np\n",
    "np.random.seed(7)\n",
    "from keras.models import Sequential\n",
    "from keras.layers import Dense\n",
    "import matplotlib.pyplot as plt\n",
    "\n",
    "X = np.linspace(-10 , 10, 10000).reshape(-1, 1)\n",
    "X_test=np.linspace(-3 , 3, 1000).reshape(-1, 1)\n",
    "Y = X**2\n",
    "\n",
    "model = Sequential()\n",
    "model.add(Dense(100, input_dim=X.shape[1], activation='relu'))\n",
    "model.add(Dense(100, activation='relu'))\n",
    "# model.add(Dense(256, activation='relu'))\n",
    "model.add(Dense(1, activation='linear'))\n",
    "\n",
    "model.compile(loss='mse', optimizer='adam', metrics=['accuracy'])\n",
    "\n",
    "history = model.fit(X, Y, epochs=20, batch_size=32, verbose=2)\n",
    "print(history.history)\n",
    "\n",
    "res = model.predict(X_test, batch_size=32)\n",
    "\n",
    "plt.plot(X_test,res,label='NN',zorder=2)\n",
    "plt.plot(X[3000:7000],Y[3000:7000],label='REAL',zorder=1)\n",
    "plt.legend()\n",
    "plt.show()\n"
   ]
  }
 ],
 "metadata": {
  "accelerator": "GPU",
  "colab": {
   "collapsed_sections": [],
   "name": "Hw2_1.ipynb",
   "provenance": [
    {
     "file_id": "https://github.com/AviatorMoser/keras-mnist-tutorial/blob/master/MNIST%20in%20Keras.ipynb",
     "timestamp": 1.58601310866E12
    }
   ],
   "toc_visible": true
  },
  "kernelspec": {
   "display_name": "Python 3",
   "language": "python",
   "name": "python3"
  },
  "language_info": {
   "codemirror_mode": {
    "name": "ipython",
    "version": 3
   },
   "file_extension": ".py",
   "mimetype": "text/x-python",
   "name": "python",
   "nbconvert_exporter": "python",
   "pygments_lexer": "ipython3",
   "version": "3.6.3"
  }
 },
 "nbformat": 4,
 "nbformat_minor": 1
}
